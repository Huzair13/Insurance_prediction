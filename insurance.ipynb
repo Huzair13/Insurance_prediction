{
  "cells": [
    {
      "cell_type": "markdown",
      "metadata": {
        "id": "view-in-github",
        "colab_type": "text"
      },
      "source": [
        "<a href=\"https://colab.research.google.com/github/Huzair13/loan_prediction/blob/main/loan_prediction.ipynb\" target=\"_parent\"><img src=\"https://colab.research.google.com/assets/colab-badge.svg\" alt=\"Open In Colab\"/></a>"
      ]
    },
    {
      "cell_type": "code",
      "execution_count": null,
      "id": "76904650",
      "metadata": {
        "id": "76904650"
      },
      "outputs": [],
      "source": [
        "import pandas as pd\n",
        "import numpy as np\n",
        "import matplotlib.pyplot as plt\n",
        "%matplotlib inline"
      ]
    },
    {
      "cell_type": "code",
      "execution_count": null,
      "id": "4818a233",
      "metadata": {
        "id": "4818a233"
      },
      "outputs": [],
      "source": [
        "df=pd.read_csv(\"train.csv\")"
      ]
    },
    {
      "cell_type": "code",
      "execution_count": null,
      "id": "0a52cbdc",
      "metadata": {
        "scrolled": false,
        "id": "0a52cbdc",
        "outputId": "2c9f8069-4c7c-4490-affc-13ee1704f175"
      },
      "outputs": [
        {
          "name": "stdout",
          "output_type": "stream",
          "text": [
            "(58592,)\n",
            "3748\n"
          ]
        }
      ],
      "source": [
        "y = df['is_claim']\n",
        "print(y.shape)\n",
        "print(y.sum())"
      ]
    },
    {
      "cell_type": "code",
      "execution_count": null,
      "id": "28ec3992",
      "metadata": {
        "scrolled": true,
        "id": "28ec3992"
      },
      "outputs": [],
      "source": [
        "df.drop(['policy_id','is_claim'],axis=1,inplace=True)"
      ]
    },
    {
      "cell_type": "code",
      "execution_count": null,
      "id": "b5eee897",
      "metadata": {
        "scrolled": true,
        "id": "b5eee897"
      },
      "outputs": [],
      "source": [
        "cat = df.select_dtypes(exclude=[\"number\",\"bool_\"])\n",
        "cat_col = cat.columns"
      ]
    },
    {
      "cell_type": "code",
      "execution_count": null,
      "id": "a5b57bf6",
      "metadata": {
        "scrolled": true,
        "id": "a5b57bf6"
      },
      "outputs": [],
      "source": [
        "dum=pd.get_dummies(cat)\n",
        "dum.dtypes\n",
        "df.drop(cat_col, axis = 1, inplace=True)\n",
        "df = pd.concat([df,dum], axis=1)"
      ]
    },
    {
      "cell_type": "code",
      "execution_count": null,
      "id": "09e7a55c",
      "metadata": {
        "scrolled": true,
        "id": "09e7a55c"
      },
      "outputs": [],
      "source": [
        "from sklearn.preprocessing import StandardScaler\n",
        "ss = StandardScaler()\n",
        "ss = ss.fit_transform(df)\n",
        "df = pd.DataFrame(ss)"
      ]
    },
    {
      "cell_type": "code",
      "execution_count": null,
      "id": "d5eda95e",
      "metadata": {
        "id": "d5eda95e"
      },
      "outputs": [],
      "source": [
        "# from sklearn.model_selection import train_test_split\n",
        "# X_train, X_test,y_train, y_test = train_test_split(df,y, test_size = 0.2, random_state = 28)\n",
        "X_train = df\n",
        "y_train = y"
      ]
    },
    {
      "cell_type": "code",
      "execution_count": null,
      "id": "4bba9136",
      "metadata": {
        "scrolled": true,
        "id": "4bba9136",
        "outputId": "5b947411-33f7-4bcf-ac21-48dc5ab5d343"
      },
      "outputs": [
        {
          "data": {
            "text/plain": [
              "LogisticRegression()"
            ]
          },
          "execution_count": 44,
          "metadata": {},
          "output_type": "execute_result"
        }
      ],
      "source": [
        "from sklearn.linear_model import LogisticRegression\n",
        "lr = LogisticRegression()\n",
        "lr.fit(X_train, y_train)"
      ]
    },
    {
      "cell_type": "code",
      "execution_count": null,
      "id": "bd7d924d",
      "metadata": {
        "id": "bd7d924d",
        "outputId": "d143becc-554d-411e-de0d-bfcbfb85e125"
      },
      "outputs": [
        {
          "data": {
            "text/plain": [
              "RandomForestClassifier(random_state=0)"
            ]
          },
          "execution_count": 45,
          "metadata": {},
          "output_type": "execute_result"
        }
      ],
      "source": [
        "from sklearn.ensemble import RandomForestClassifier\n",
        "rfr = RandomForestClassifier(n_estimators = 100, random_state = 0)\n",
        "rfr.fit(X_train,y_train)"
      ]
    },
    {
      "cell_type": "code",
      "execution_count": null,
      "id": "58430a85",
      "metadata": {
        "id": "58430a85"
      },
      "outputs": [],
      "source": [
        "# import xgboost as xgb\n",
        "# xgb_c = xgb.XGBClassifier()\n",
        "# xgb_c.fit(X_train, y_train)"
      ]
    },
    {
      "cell_type": "code",
      "execution_count": null,
      "id": "77da14c0",
      "metadata": {
        "id": "77da14c0",
        "outputId": "91ffd0d0-3e21-419e-ca10-cae49422bb12"
      },
      "outputs": [
        {
          "name": "stderr",
          "output_type": "stream",
          "text": [
            "D:\\Program Files\\Anaconda\\lib\\site-packages\\sklearn\\linear_model\\_base.py:141: FutureWarning: 'normalize' was deprecated in version 1.0 and will be removed in 1.2.\n",
            "If you wish to scale the data, use Pipeline with a StandardScaler in a preprocessing stage. To reproduce the previous behavior:\n",
            "\n",
            "from sklearn.pipeline import make_pipeline\n",
            "\n",
            "model = make_pipeline(StandardScaler(with_mean=False), Lasso())\n",
            "\n",
            "If you wish to pass a sample_weight parameter, you need to pass it as a fit parameter to each step of the pipeline as follows:\n",
            "\n",
            "kwargs = {s[0] + '__sample_weight': sample_weight for s in model.steps}\n",
            "model.fit(X, y, **kwargs)\n",
            "\n",
            "Set parameter alpha to: original_alpha * np.sqrt(n_samples). \n",
            "  warnings.warn(\n"
          ]
        },
        {
          "data": {
            "text/plain": [
              "Lasso(alpha=0.05, normalize=True)"
            ]
          },
          "execution_count": 66,
          "metadata": {},
          "output_type": "execute_result"
        }
      ],
      "source": [
        "from sklearn import linear_model\n",
        "Lreg = linear_model.Lasso(alpha=0.05, normalize=True)\n",
        "Lreg.fit(X_train,y_train)"
      ]
    },
    {
      "cell_type": "code",
      "execution_count": null,
      "id": "24538f6a",
      "metadata": {
        "id": "24538f6a",
        "outputId": "2e9c83ac-4839-4f5d-a855-392f73ddd2dd"
      },
      "outputs": [
        {
          "data": {
            "text/plain": [
              "SVC()"
            ]
          },
          "execution_count": 92,
          "metadata": {},
          "output_type": "execute_result"
        }
      ],
      "source": [
        "from sklearn.svm import SVC\n",
        "svcf=SVC(gamma='scale')\n",
        "svcf.fit(X_train,y_train)"
      ]
    },
    {
      "cell_type": "code",
      "execution_count": null,
      "id": "24216828",
      "metadata": {
        "id": "24216828",
        "outputId": "fdd71fff-d539-4072-f07e-71dade90a3d9"
      },
      "outputs": [
        {
          "data": {
            "text/plain": [
              "GaussianNB()"
            ]
          },
          "execution_count": 103,
          "metadata": {},
          "output_type": "execute_result"
        }
      ],
      "source": [
        "from sklearn.naive_bayes import GaussianNB\n",
        "classifier = GaussianNB()\n",
        "classifier.fit(X_train, y_train)"
      ]
    },
    {
      "cell_type": "code",
      "execution_count": null,
      "id": "2375c934",
      "metadata": {
        "id": "2375c934"
      },
      "outputs": [],
      "source": []
    },
    {
      "cell_type": "code",
      "execution_count": null,
      "id": "b97dd96f",
      "metadata": {
        "id": "b97dd96f",
        "outputId": "d79bc4c4-6fbf-4318-be33-cb1ef1877f18"
      },
      "outputs": [
        {
          "name": "stderr",
          "output_type": "stream",
          "text": [
            "D:\\Program Files\\Anaconda\\lib\\site-packages\\sklearn\\neural_network\\_multilayer_perceptron.py:549: ConvergenceWarning: lbfgs failed to converge (status=1):\n",
            "STOP: TOTAL NO. of ITERATIONS REACHED LIMIT.\n",
            "\n",
            "Increase the number of iterations (max_iter) or scale the data as shown in:\n",
            "    https://scikit-learn.org/stable/modules/preprocessing.html\n",
            "  self.n_iter_ = _check_optimize_result(\"lbfgs\", opt_res, self.max_iter)\n"
          ]
        },
        {
          "data": {
            "text/plain": [
              "MLPClassifier(alpha=1e-05, random_state=1, solver='lbfgs')"
            ]
          },
          "execution_count": 102,
          "metadata": {},
          "output_type": "execute_result"
        }
      ],
      "source": [
        "from sklearn.neural_network import MLPClassifier\n",
        "NN = MLPClassifier(solver='lbfgs', alpha=1e-5,hidden_layer_sizes=(100,), random_state=1)\n",
        "NN.fit(X_train, y_train)"
      ]
    },
    {
      "cell_type": "code",
      "execution_count": null,
      "id": "ebdb2c99",
      "metadata": {
        "id": "ebdb2c99"
      },
      "outputs": [],
      "source": [
        "df2=pd.read_csv(\"test.csv\")"
      ]
    },
    {
      "cell_type": "code",
      "execution_count": null,
      "id": "37789d01",
      "metadata": {
        "id": "37789d01",
        "outputId": "e2a31aae-22b7-4a75-9eec-24e1eb6a2541"
      },
      "outputs": [
        {
          "data": {
            "text/html": [
              "<div>\n",
              "<style scoped>\n",
              "    .dataframe tbody tr th:only-of-type {\n",
              "        vertical-align: middle;\n",
              "    }\n",
              "\n",
              "    .dataframe tbody tr th {\n",
              "        vertical-align: top;\n",
              "    }\n",
              "\n",
              "    .dataframe thead th {\n",
              "        text-align: right;\n",
              "    }\n",
              "</style>\n",
              "<table border=\"1\" class=\"dataframe\">\n",
              "  <thead>\n",
              "    <tr style=\"text-align: right;\">\n",
              "      <th></th>\n",
              "      <th>policy_id</th>\n",
              "      <th>policy_tenure</th>\n",
              "      <th>age_of_car</th>\n",
              "      <th>age_of_policyholder</th>\n",
              "      <th>area_cluster</th>\n",
              "      <th>population_density</th>\n",
              "      <th>make</th>\n",
              "      <th>segment</th>\n",
              "      <th>model</th>\n",
              "      <th>fuel_type</th>\n",
              "      <th>...</th>\n",
              "      <th>is_rear_window_defogger</th>\n",
              "      <th>is_brake_assist</th>\n",
              "      <th>is_power_door_locks</th>\n",
              "      <th>is_central_locking</th>\n",
              "      <th>is_power_steering</th>\n",
              "      <th>is_driver_seat_height_adjustable</th>\n",
              "      <th>is_day_night_rear_view_mirror</th>\n",
              "      <th>is_ecw</th>\n",
              "      <th>is_speed_alert</th>\n",
              "      <th>ncap_rating</th>\n",
              "    </tr>\n",
              "  </thead>\n",
              "  <tbody>\n",
              "    <tr>\n",
              "      <th>0</th>\n",
              "      <td>ID58593</td>\n",
              "      <td>0.341732</td>\n",
              "      <td>0.00</td>\n",
              "      <td>0.586538</td>\n",
              "      <td>C3</td>\n",
              "      <td>4076</td>\n",
              "      <td>1</td>\n",
              "      <td>A</td>\n",
              "      <td>M1</td>\n",
              "      <td>CNG</td>\n",
              "      <td>...</td>\n",
              "      <td>No</td>\n",
              "      <td>No</td>\n",
              "      <td>No</td>\n",
              "      <td>No</td>\n",
              "      <td>Yes</td>\n",
              "      <td>No</td>\n",
              "      <td>No</td>\n",
              "      <td>No</td>\n",
              "      <td>Yes</td>\n",
              "      <td>0</td>\n",
              "    </tr>\n",
              "    <tr>\n",
              "      <th>1</th>\n",
              "      <td>ID58594</td>\n",
              "      <td>0.307241</td>\n",
              "      <td>0.13</td>\n",
              "      <td>0.442308</td>\n",
              "      <td>C8</td>\n",
              "      <td>8794</td>\n",
              "      <td>1</td>\n",
              "      <td>B2</td>\n",
              "      <td>M6</td>\n",
              "      <td>Petrol</td>\n",
              "      <td>...</td>\n",
              "      <td>No</td>\n",
              "      <td>Yes</td>\n",
              "      <td>Yes</td>\n",
              "      <td>Yes</td>\n",
              "      <td>Yes</td>\n",
              "      <td>Yes</td>\n",
              "      <td>Yes</td>\n",
              "      <td>Yes</td>\n",
              "      <td>Yes</td>\n",
              "      <td>2</td>\n",
              "    </tr>\n",
              "    <tr>\n",
              "      <th>2</th>\n",
              "      <td>ID58595</td>\n",
              "      <td>0.327924</td>\n",
              "      <td>0.12</td>\n",
              "      <td>0.451923</td>\n",
              "      <td>C8</td>\n",
              "      <td>8794</td>\n",
              "      <td>2</td>\n",
              "      <td>A</td>\n",
              "      <td>M3</td>\n",
              "      <td>Petrol</td>\n",
              "      <td>...</td>\n",
              "      <td>No</td>\n",
              "      <td>No</td>\n",
              "      <td>Yes</td>\n",
              "      <td>Yes</td>\n",
              "      <td>Yes</td>\n",
              "      <td>No</td>\n",
              "      <td>Yes</td>\n",
              "      <td>Yes</td>\n",
              "      <td>Yes</td>\n",
              "      <td>2</td>\n",
              "    </tr>\n",
              "    <tr>\n",
              "      <th>3</th>\n",
              "      <td>ID58596</td>\n",
              "      <td>0.782654</td>\n",
              "      <td>0.01</td>\n",
              "      <td>0.461538</td>\n",
              "      <td>C5</td>\n",
              "      <td>34738</td>\n",
              "      <td>1</td>\n",
              "      <td>A</td>\n",
              "      <td>M1</td>\n",
              "      <td>CNG</td>\n",
              "      <td>...</td>\n",
              "      <td>No</td>\n",
              "      <td>No</td>\n",
              "      <td>No</td>\n",
              "      <td>No</td>\n",
              "      <td>Yes</td>\n",
              "      <td>No</td>\n",
              "      <td>No</td>\n",
              "      <td>No</td>\n",
              "      <td>Yes</td>\n",
              "      <td>0</td>\n",
              "    </tr>\n",
              "    <tr>\n",
              "      <th>4</th>\n",
              "      <td>ID58597</td>\n",
              "      <td>1.233404</td>\n",
              "      <td>0.02</td>\n",
              "      <td>0.634615</td>\n",
              "      <td>C5</td>\n",
              "      <td>34738</td>\n",
              "      <td>1</td>\n",
              "      <td>A</td>\n",
              "      <td>M1</td>\n",
              "      <td>CNG</td>\n",
              "      <td>...</td>\n",
              "      <td>No</td>\n",
              "      <td>No</td>\n",
              "      <td>No</td>\n",
              "      <td>No</td>\n",
              "      <td>Yes</td>\n",
              "      <td>No</td>\n",
              "      <td>No</td>\n",
              "      <td>No</td>\n",
              "      <td>Yes</td>\n",
              "      <td>0</td>\n",
              "    </tr>\n",
              "  </tbody>\n",
              "</table>\n",
              "<p>5 rows × 43 columns</p>\n",
              "</div>"
            ],
            "text/plain": [
              "  policy_id  policy_tenure  age_of_car  age_of_policyholder area_cluster  \\\n",
              "0   ID58593       0.341732        0.00             0.586538           C3   \n",
              "1   ID58594       0.307241        0.13             0.442308           C8   \n",
              "2   ID58595       0.327924        0.12             0.451923           C8   \n",
              "3   ID58596       0.782654        0.01             0.461538           C5   \n",
              "4   ID58597       1.233404        0.02             0.634615           C5   \n",
              "\n",
              "   population_density  make segment model fuel_type  ...  \\\n",
              "0                4076     1       A    M1       CNG  ...   \n",
              "1                8794     1      B2    M6    Petrol  ...   \n",
              "2                8794     2       A    M3    Petrol  ...   \n",
              "3               34738     1       A    M1       CNG  ...   \n",
              "4               34738     1       A    M1       CNG  ...   \n",
              "\n",
              "  is_rear_window_defogger is_brake_assist is_power_door_locks  \\\n",
              "0                      No              No                  No   \n",
              "1                      No             Yes                 Yes   \n",
              "2                      No              No                 Yes   \n",
              "3                      No              No                  No   \n",
              "4                      No              No                  No   \n",
              "\n",
              "   is_central_locking is_power_steering is_driver_seat_height_adjustable  \\\n",
              "0                  No               Yes                               No   \n",
              "1                 Yes               Yes                              Yes   \n",
              "2                 Yes               Yes                               No   \n",
              "3                  No               Yes                               No   \n",
              "4                  No               Yes                               No   \n",
              "\n",
              "  is_day_night_rear_view_mirror is_ecw is_speed_alert ncap_rating  \n",
              "0                            No     No            Yes           0  \n",
              "1                           Yes    Yes            Yes           2  \n",
              "2                           Yes    Yes            Yes           2  \n",
              "3                            No     No            Yes           0  \n",
              "4                            No     No            Yes           0  \n",
              "\n",
              "[5 rows x 43 columns]"
            ]
          },
          "execution_count": 49,
          "metadata": {},
          "output_type": "execute_result"
        }
      ],
      "source": [
        "df2.head()"
      ]
    },
    {
      "cell_type": "code",
      "execution_count": null,
      "id": "22324bf2",
      "metadata": {
        "id": "22324bf2"
      },
      "outputs": [],
      "source": [
        "df2.drop('policy_id',axis=1,inplace=True)"
      ]
    },
    {
      "cell_type": "code",
      "execution_count": null,
      "id": "1cde62cc",
      "metadata": {
        "id": "1cde62cc",
        "outputId": "464b0679-4e5d-4848-8f1a-cb72c8992d0e"
      },
      "outputs": [
        {
          "data": {
            "text/plain": [
              "Index(['policy_tenure', 'age_of_car', 'age_of_policyholder', 'area_cluster',\n",
              "       'population_density', 'make', 'segment', 'model', 'fuel_type',\n",
              "       'max_torque', 'max_power', 'engine_type', 'airbags', 'is_esc',\n",
              "       'is_adjustable_steering', 'is_tpms', 'is_parking_sensors',\n",
              "       'is_parking_camera', 'rear_brakes_type', 'displacement', 'cylinder',\n",
              "       'transmission_type', 'gear_box', 'steering_type', 'turning_radius',\n",
              "       'length', 'width', 'height', 'gross_weight', 'is_front_fog_lights',\n",
              "       'is_rear_window_wiper', 'is_rear_window_washer',\n",
              "       'is_rear_window_defogger', 'is_brake_assist', 'is_power_door_locks',\n",
              "       'is_central_locking', 'is_power_steering',\n",
              "       'is_driver_seat_height_adjustable', 'is_day_night_rear_view_mirror',\n",
              "       'is_ecw', 'is_speed_alert', 'ncap_rating'],\n",
              "      dtype='object')"
            ]
          },
          "execution_count": 51,
          "metadata": {},
          "output_type": "execute_result"
        }
      ],
      "source": [
        "df2.columns"
      ]
    },
    {
      "cell_type": "code",
      "execution_count": null,
      "id": "057582e0",
      "metadata": {
        "id": "057582e0"
      },
      "outputs": [],
      "source": [
        "cat2 = df2.select_dtypes(exclude=[\"number\",\"bool_\"])\n",
        "cat_col2 = cat2.columns"
      ]
    },
    {
      "cell_type": "code",
      "execution_count": null,
      "id": "58427d01",
      "metadata": {
        "id": "58427d01",
        "outputId": "1a071d0b-474a-4c45-d55f-f355c06d7d3c"
      },
      "outputs": [
        {
          "data": {
            "text/html": [
              "<div>\n",
              "<style scoped>\n",
              "    .dataframe tbody tr th:only-of-type {\n",
              "        vertical-align: middle;\n",
              "    }\n",
              "\n",
              "    .dataframe tbody tr th {\n",
              "        vertical-align: top;\n",
              "    }\n",
              "\n",
              "    .dataframe thead th {\n",
              "        text-align: right;\n",
              "    }\n",
              "</style>\n",
              "<table border=\"1\" class=\"dataframe\">\n",
              "  <thead>\n",
              "    <tr style=\"text-align: right;\">\n",
              "      <th></th>\n",
              "      <th>area_cluster_C1</th>\n",
              "      <th>area_cluster_C10</th>\n",
              "      <th>area_cluster_C11</th>\n",
              "      <th>area_cluster_C12</th>\n",
              "      <th>area_cluster_C13</th>\n",
              "      <th>area_cluster_C14</th>\n",
              "      <th>area_cluster_C15</th>\n",
              "      <th>area_cluster_C16</th>\n",
              "      <th>area_cluster_C17</th>\n",
              "      <th>area_cluster_C18</th>\n",
              "      <th>...</th>\n",
              "      <th>is_power_steering_No</th>\n",
              "      <th>is_power_steering_Yes</th>\n",
              "      <th>is_driver_seat_height_adjustable_No</th>\n",
              "      <th>is_driver_seat_height_adjustable_Yes</th>\n",
              "      <th>is_day_night_rear_view_mirror_No</th>\n",
              "      <th>is_day_night_rear_view_mirror_Yes</th>\n",
              "      <th>is_ecw_No</th>\n",
              "      <th>is_ecw_Yes</th>\n",
              "      <th>is_speed_alert_No</th>\n",
              "      <th>is_speed_alert_Yes</th>\n",
              "    </tr>\n",
              "  </thead>\n",
              "  <tbody>\n",
              "    <tr>\n",
              "      <th>0</th>\n",
              "      <td>1</td>\n",
              "      <td>0</td>\n",
              "      <td>0</td>\n",
              "      <td>0</td>\n",
              "      <td>0</td>\n",
              "      <td>0</td>\n",
              "      <td>0</td>\n",
              "      <td>0</td>\n",
              "      <td>0</td>\n",
              "      <td>0</td>\n",
              "      <td>...</td>\n",
              "      <td>0</td>\n",
              "      <td>1</td>\n",
              "      <td>1</td>\n",
              "      <td>0</td>\n",
              "      <td>1</td>\n",
              "      <td>0</td>\n",
              "      <td>1</td>\n",
              "      <td>0</td>\n",
              "      <td>0</td>\n",
              "      <td>1</td>\n",
              "    </tr>\n",
              "    <tr>\n",
              "      <th>1</th>\n",
              "      <td>0</td>\n",
              "      <td>0</td>\n",
              "      <td>0</td>\n",
              "      <td>0</td>\n",
              "      <td>0</td>\n",
              "      <td>0</td>\n",
              "      <td>0</td>\n",
              "      <td>0</td>\n",
              "      <td>0</td>\n",
              "      <td>0</td>\n",
              "      <td>...</td>\n",
              "      <td>0</td>\n",
              "      <td>1</td>\n",
              "      <td>1</td>\n",
              "      <td>0</td>\n",
              "      <td>1</td>\n",
              "      <td>0</td>\n",
              "      <td>1</td>\n",
              "      <td>0</td>\n",
              "      <td>0</td>\n",
              "      <td>1</td>\n",
              "    </tr>\n",
              "    <tr>\n",
              "      <th>2</th>\n",
              "      <td>0</td>\n",
              "      <td>0</td>\n",
              "      <td>0</td>\n",
              "      <td>0</td>\n",
              "      <td>0</td>\n",
              "      <td>0</td>\n",
              "      <td>0</td>\n",
              "      <td>0</td>\n",
              "      <td>0</td>\n",
              "      <td>0</td>\n",
              "      <td>...</td>\n",
              "      <td>0</td>\n",
              "      <td>1</td>\n",
              "      <td>1</td>\n",
              "      <td>0</td>\n",
              "      <td>1</td>\n",
              "      <td>0</td>\n",
              "      <td>1</td>\n",
              "      <td>0</td>\n",
              "      <td>0</td>\n",
              "      <td>1</td>\n",
              "    </tr>\n",
              "    <tr>\n",
              "      <th>3</th>\n",
              "      <td>0</td>\n",
              "      <td>0</td>\n",
              "      <td>0</td>\n",
              "      <td>0</td>\n",
              "      <td>0</td>\n",
              "      <td>0</td>\n",
              "      <td>0</td>\n",
              "      <td>0</td>\n",
              "      <td>0</td>\n",
              "      <td>0</td>\n",
              "      <td>...</td>\n",
              "      <td>0</td>\n",
              "      <td>1</td>\n",
              "      <td>0</td>\n",
              "      <td>1</td>\n",
              "      <td>0</td>\n",
              "      <td>1</td>\n",
              "      <td>0</td>\n",
              "      <td>1</td>\n",
              "      <td>0</td>\n",
              "      <td>1</td>\n",
              "    </tr>\n",
              "    <tr>\n",
              "      <th>4</th>\n",
              "      <td>0</td>\n",
              "      <td>0</td>\n",
              "      <td>0</td>\n",
              "      <td>0</td>\n",
              "      <td>0</td>\n",
              "      <td>0</td>\n",
              "      <td>0</td>\n",
              "      <td>0</td>\n",
              "      <td>0</td>\n",
              "      <td>0</td>\n",
              "      <td>...</td>\n",
              "      <td>0</td>\n",
              "      <td>1</td>\n",
              "      <td>1</td>\n",
              "      <td>0</td>\n",
              "      <td>0</td>\n",
              "      <td>1</td>\n",
              "      <td>0</td>\n",
              "      <td>1</td>\n",
              "      <td>0</td>\n",
              "      <td>1</td>\n",
              "    </tr>\n",
              "    <tr>\n",
              "      <th>...</th>\n",
              "      <td>...</td>\n",
              "      <td>...</td>\n",
              "      <td>...</td>\n",
              "      <td>...</td>\n",
              "      <td>...</td>\n",
              "      <td>...</td>\n",
              "      <td>...</td>\n",
              "      <td>...</td>\n",
              "      <td>...</td>\n",
              "      <td>...</td>\n",
              "      <td>...</td>\n",
              "      <td>...</td>\n",
              "      <td>...</td>\n",
              "      <td>...</td>\n",
              "      <td>...</td>\n",
              "      <td>...</td>\n",
              "      <td>...</td>\n",
              "      <td>...</td>\n",
              "      <td>...</td>\n",
              "      <td>...</td>\n",
              "      <td>...</td>\n",
              "    </tr>\n",
              "    <tr>\n",
              "      <th>58587</th>\n",
              "      <td>0</td>\n",
              "      <td>0</td>\n",
              "      <td>0</td>\n",
              "      <td>0</td>\n",
              "      <td>0</td>\n",
              "      <td>0</td>\n",
              "      <td>0</td>\n",
              "      <td>0</td>\n",
              "      <td>0</td>\n",
              "      <td>0</td>\n",
              "      <td>...</td>\n",
              "      <td>0</td>\n",
              "      <td>1</td>\n",
              "      <td>1</td>\n",
              "      <td>0</td>\n",
              "      <td>0</td>\n",
              "      <td>1</td>\n",
              "      <td>0</td>\n",
              "      <td>1</td>\n",
              "      <td>0</td>\n",
              "      <td>1</td>\n",
              "    </tr>\n",
              "    <tr>\n",
              "      <th>58588</th>\n",
              "      <td>0</td>\n",
              "      <td>0</td>\n",
              "      <td>0</td>\n",
              "      <td>0</td>\n",
              "      <td>0</td>\n",
              "      <td>1</td>\n",
              "      <td>0</td>\n",
              "      <td>0</td>\n",
              "      <td>0</td>\n",
              "      <td>0</td>\n",
              "      <td>...</td>\n",
              "      <td>0</td>\n",
              "      <td>1</td>\n",
              "      <td>1</td>\n",
              "      <td>0</td>\n",
              "      <td>1</td>\n",
              "      <td>0</td>\n",
              "      <td>1</td>\n",
              "      <td>0</td>\n",
              "      <td>0</td>\n",
              "      <td>1</td>\n",
              "    </tr>\n",
              "    <tr>\n",
              "      <th>58589</th>\n",
              "      <td>0</td>\n",
              "      <td>0</td>\n",
              "      <td>0</td>\n",
              "      <td>0</td>\n",
              "      <td>0</td>\n",
              "      <td>0</td>\n",
              "      <td>0</td>\n",
              "      <td>0</td>\n",
              "      <td>0</td>\n",
              "      <td>0</td>\n",
              "      <td>...</td>\n",
              "      <td>0</td>\n",
              "      <td>1</td>\n",
              "      <td>1</td>\n",
              "      <td>0</td>\n",
              "      <td>1</td>\n",
              "      <td>0</td>\n",
              "      <td>1</td>\n",
              "      <td>0</td>\n",
              "      <td>0</td>\n",
              "      <td>1</td>\n",
              "    </tr>\n",
              "    <tr>\n",
              "      <th>58590</th>\n",
              "      <td>0</td>\n",
              "      <td>0</td>\n",
              "      <td>0</td>\n",
              "      <td>0</td>\n",
              "      <td>0</td>\n",
              "      <td>0</td>\n",
              "      <td>0</td>\n",
              "      <td>0</td>\n",
              "      <td>0</td>\n",
              "      <td>0</td>\n",
              "      <td>...</td>\n",
              "      <td>0</td>\n",
              "      <td>1</td>\n",
              "      <td>0</td>\n",
              "      <td>1</td>\n",
              "      <td>0</td>\n",
              "      <td>1</td>\n",
              "      <td>0</td>\n",
              "      <td>1</td>\n",
              "      <td>0</td>\n",
              "      <td>1</td>\n",
              "    </tr>\n",
              "    <tr>\n",
              "      <th>58591</th>\n",
              "      <td>0</td>\n",
              "      <td>0</td>\n",
              "      <td>0</td>\n",
              "      <td>0</td>\n",
              "      <td>0</td>\n",
              "      <td>0</td>\n",
              "      <td>0</td>\n",
              "      <td>0</td>\n",
              "      <td>0</td>\n",
              "      <td>0</td>\n",
              "      <td>...</td>\n",
              "      <td>0</td>\n",
              "      <td>1</td>\n",
              "      <td>0</td>\n",
              "      <td>1</td>\n",
              "      <td>1</td>\n",
              "      <td>0</td>\n",
              "      <td>0</td>\n",
              "      <td>1</td>\n",
              "      <td>0</td>\n",
              "      <td>1</td>\n",
              "    </tr>\n",
              "  </tbody>\n",
              "</table>\n",
              "<p>58592 rows × 112 columns</p>\n",
              "</div>"
            ],
            "text/plain": [
              "       area_cluster_C1  area_cluster_C10  area_cluster_C11  area_cluster_C12  \\\n",
              "0                    1                 0                 0                 0   \n",
              "1                    0                 0                 0                 0   \n",
              "2                    0                 0                 0                 0   \n",
              "3                    0                 0                 0                 0   \n",
              "4                    0                 0                 0                 0   \n",
              "...                ...               ...               ...               ...   \n",
              "58587                0                 0                 0                 0   \n",
              "58588                0                 0                 0                 0   \n",
              "58589                0                 0                 0                 0   \n",
              "58590                0                 0                 0                 0   \n",
              "58591                0                 0                 0                 0   \n",
              "\n",
              "       area_cluster_C13  area_cluster_C14  area_cluster_C15  area_cluster_C16  \\\n",
              "0                     0                 0                 0                 0   \n",
              "1                     0                 0                 0                 0   \n",
              "2                     0                 0                 0                 0   \n",
              "3                     0                 0                 0                 0   \n",
              "4                     0                 0                 0                 0   \n",
              "...                 ...               ...               ...               ...   \n",
              "58587                 0                 0                 0                 0   \n",
              "58588                 0                 1                 0                 0   \n",
              "58589                 0                 0                 0                 0   \n",
              "58590                 0                 0                 0                 0   \n",
              "58591                 0                 0                 0                 0   \n",
              "\n",
              "       area_cluster_C17  area_cluster_C18  ...  is_power_steering_No  \\\n",
              "0                     0                 0  ...                     0   \n",
              "1                     0                 0  ...                     0   \n",
              "2                     0                 0  ...                     0   \n",
              "3                     0                 0  ...                     0   \n",
              "4                     0                 0  ...                     0   \n",
              "...                 ...               ...  ...                   ...   \n",
              "58587                 0                 0  ...                     0   \n",
              "58588                 0                 0  ...                     0   \n",
              "58589                 0                 0  ...                     0   \n",
              "58590                 0                 0  ...                     0   \n",
              "58591                 0                 0  ...                     0   \n",
              "\n",
              "       is_power_steering_Yes  is_driver_seat_height_adjustable_No  \\\n",
              "0                          1                                    1   \n",
              "1                          1                                    1   \n",
              "2                          1                                    1   \n",
              "3                          1                                    0   \n",
              "4                          1                                    1   \n",
              "...                      ...                                  ...   \n",
              "58587                      1                                    1   \n",
              "58588                      1                                    1   \n",
              "58589                      1                                    1   \n",
              "58590                      1                                    0   \n",
              "58591                      1                                    0   \n",
              "\n",
              "       is_driver_seat_height_adjustable_Yes  is_day_night_rear_view_mirror_No  \\\n",
              "0                                         0                                 1   \n",
              "1                                         0                                 1   \n",
              "2                                         0                                 1   \n",
              "3                                         1                                 0   \n",
              "4                                         0                                 0   \n",
              "...                                     ...                               ...   \n",
              "58587                                     0                                 0   \n",
              "58588                                     0                                 1   \n",
              "58589                                     0                                 1   \n",
              "58590                                     1                                 0   \n",
              "58591                                     1                                 1   \n",
              "\n",
              "       is_day_night_rear_view_mirror_Yes  is_ecw_No  is_ecw_Yes  \\\n",
              "0                                      0          1           0   \n",
              "1                                      0          1           0   \n",
              "2                                      0          1           0   \n",
              "3                                      1          0           1   \n",
              "4                                      1          0           1   \n",
              "...                                  ...        ...         ...   \n",
              "58587                                  1          0           1   \n",
              "58588                                  0          1           0   \n",
              "58589                                  0          1           0   \n",
              "58590                                  1          0           1   \n",
              "58591                                  0          0           1   \n",
              "\n",
              "       is_speed_alert_No  is_speed_alert_Yes  \n",
              "0                      0                   1  \n",
              "1                      0                   1  \n",
              "2                      0                   1  \n",
              "3                      0                   1  \n",
              "4                      0                   1  \n",
              "...                  ...                 ...  \n",
              "58587                  0                   1  \n",
              "58588                  0                   1  \n",
              "58589                  0                   1  \n",
              "58590                  0                   1  \n",
              "58591                  0                   1  \n",
              "\n",
              "[58592 rows x 112 columns]"
            ]
          },
          "execution_count": 53,
          "metadata": {},
          "output_type": "execute_result"
        }
      ],
      "source": [
        "dum2=pd.get_dummies(cat2)\n",
        "dum"
      ]
    },
    {
      "cell_type": "code",
      "execution_count": null,
      "id": "6e851d4e",
      "metadata": {
        "id": "6e851d4e"
      },
      "outputs": [],
      "source": [
        "df2.drop(cat_col2,axis=1,inplace=True)\n",
        "df2=pd.concat([df2,dum2],axis=1)"
      ]
    },
    {
      "cell_type": "code",
      "execution_count": null,
      "id": "9670be89",
      "metadata": {
        "id": "9670be89"
      },
      "outputs": [],
      "source": [
        "from sklearn.preprocessing import StandardScaler\n",
        "ss2 = StandardScaler()\n",
        "ss2 = ss2.fit_transform(df2)\n",
        "df2 = pd.DataFrame(ss2)"
      ]
    },
    {
      "cell_type": "code",
      "execution_count": null,
      "id": "fa314c98",
      "metadata": {
        "id": "fa314c98"
      },
      "outputs": [],
      "source": []
    },
    {
      "cell_type": "code",
      "execution_count": null,
      "id": "03e445e3",
      "metadata": {
        "id": "03e445e3"
      },
      "outputs": [],
      "source": []
    },
    {
      "cell_type": "code",
      "execution_count": null,
      "id": "82c56f1c",
      "metadata": {
        "id": "82c56f1c"
      },
      "outputs": [],
      "source": []
    },
    {
      "cell_type": "code",
      "execution_count": null,
      "id": "4b983869",
      "metadata": {
        "id": "4b983869",
        "outputId": "e25ca198-3d17-4379-e756-2f6e75473650"
      },
      "outputs": [
        {
          "data": {
            "text/plain": [
              "0    0\n",
              "dtype: int64"
            ]
          },
          "execution_count": 56,
          "metadata": {},
          "output_type": "execute_result"
        }
      ],
      "source": [
        "pred = lr.predict(df2)\n",
        "pred = pd.DataFrame(pred)\n",
        "# pred[0][0] = 1\n",
        "pred.sum()"
      ]
    },
    {
      "cell_type": "code",
      "execution_count": null,
      "id": "e83dd5f1",
      "metadata": {
        "id": "e83dd5f1",
        "outputId": "3141fdcb-6c17-4dfe-9f0b-24377fcedfd4"
      },
      "outputs": [
        {
          "data": {
            "text/html": [
              "<div>\n",
              "<style scoped>\n",
              "    .dataframe tbody tr th:only-of-type {\n",
              "        vertical-align: middle;\n",
              "    }\n",
              "\n",
              "    .dataframe tbody tr th {\n",
              "        vertical-align: top;\n",
              "    }\n",
              "\n",
              "    .dataframe thead th {\n",
              "        text-align: right;\n",
              "    }\n",
              "</style>\n",
              "<table border=\"1\" class=\"dataframe\">\n",
              "  <thead>\n",
              "    <tr style=\"text-align: right;\">\n",
              "      <th></th>\n",
              "      <th>0</th>\n",
              "    </tr>\n",
              "  </thead>\n",
              "  <tbody>\n",
              "    <tr>\n",
              "      <th>0</th>\n",
              "      <td>0</td>\n",
              "    </tr>\n",
              "    <tr>\n",
              "      <th>1</th>\n",
              "      <td>0</td>\n",
              "    </tr>\n",
              "    <tr>\n",
              "      <th>2</th>\n",
              "      <td>0</td>\n",
              "    </tr>\n",
              "    <tr>\n",
              "      <th>3</th>\n",
              "      <td>0</td>\n",
              "    </tr>\n",
              "    <tr>\n",
              "      <th>4</th>\n",
              "      <td>1</td>\n",
              "    </tr>\n",
              "    <tr>\n",
              "      <th>...</th>\n",
              "      <td>...</td>\n",
              "    </tr>\n",
              "    <tr>\n",
              "      <th>39058</th>\n",
              "      <td>0</td>\n",
              "    </tr>\n",
              "    <tr>\n",
              "      <th>39059</th>\n",
              "      <td>0</td>\n",
              "    </tr>\n",
              "    <tr>\n",
              "      <th>39060</th>\n",
              "      <td>0</td>\n",
              "    </tr>\n",
              "    <tr>\n",
              "      <th>39061</th>\n",
              "      <td>0</td>\n",
              "    </tr>\n",
              "    <tr>\n",
              "      <th>39062</th>\n",
              "      <td>0</td>\n",
              "    </tr>\n",
              "  </tbody>\n",
              "</table>\n",
              "<p>39063 rows × 1 columns</p>\n",
              "</div>"
            ],
            "text/plain": [
              "       0\n",
              "0      0\n",
              "1      0\n",
              "2      0\n",
              "3      0\n",
              "4      1\n",
              "...   ..\n",
              "39058  0\n",
              "39059  0\n",
              "39060  0\n",
              "39061  0\n",
              "39062  0\n",
              "\n",
              "[39063 rows x 1 columns]"
            ]
          },
          "execution_count": 57,
          "metadata": {},
          "output_type": "execute_result"
        }
      ],
      "source": [
        "predrfc = rfr.predict(df2)\n",
        "predrfc = pd.DataFrame(predrfc)\n",
        "# pred[0][0] = 1\n",
        "predrfc"
      ]
    },
    {
      "cell_type": "code",
      "execution_count": null,
      "id": "7d678c6b",
      "metadata": {
        "id": "7d678c6b",
        "outputId": "2b4186ac-61f3-4869-e61e-03924c286768"
      },
      "outputs": [
        {
          "name": "stdout",
          "output_type": "stream",
          "text": [
            "[0.06396778 0.06396778 0.06396778 ... 0.06396778 0.06396778 0.06396778]\n"
          ]
        },
        {
          "data": {
            "text/plain": [
              "0.0"
            ]
          },
          "execution_count": 91,
          "metadata": {},
          "output_type": "execute_result"
        }
      ],
      "source": [
        "predlass =Lreg.predict(df2)\n",
        "print(predlass)\n",
        "predlass = np.round_(predlass)\n",
        "# predlass = pd.Series(predlass)\n",
        "# predlass=predlass.round().astype(int)\n",
        "predlass.sum()"
      ]
    },
    {
      "cell_type": "code",
      "execution_count": null,
      "id": "96cc2935",
      "metadata": {
        "id": "96cc2935",
        "outputId": "3b4d8906-882e-4739-978f-c8b95a35884a"
      },
      "outputs": [
        {
          "data": {
            "text/plain": [
              "0    2\n",
              "dtype: int64"
            ]
          },
          "execution_count": 100,
          "metadata": {},
          "output_type": "execute_result"
        }
      ],
      "source": [
        "predn = NN.predict(df2)\n",
        "predn = pd.DataFrame(predn)\n",
        "predn.sum()"
      ]
    },
    {
      "cell_type": "code",
      "execution_count": null,
      "id": "ef33a49d",
      "metadata": {
        "id": "ef33a49d",
        "outputId": "887317d0-18c0-4497-e501-62ac2719614f"
      },
      "outputs": [
        {
          "data": {
            "text/plain": [
              "0    17223\n",
              "dtype: int64"
            ]
          },
          "execution_count": 107,
          "metadata": {},
          "output_type": "execute_result"
        }
      ],
      "source": [
        "prednai = classifier.predict(df2)\n",
        "prednai = pd.DataFrame(prednai)\n",
        "prednai.sum()\n"
      ]
    },
    {
      "cell_type": "code",
      "execution_count": null,
      "id": "d846eeec",
      "metadata": {
        "id": "d846eeec"
      },
      "outputs": [],
      "source": [
        "sub = pd.read_csv(\"sample_sub.csv\")\n",
        "sub.drop([\"is_claim\"], axis = 1, inplace = True)\n",
        "sub = pd.concat([sub, prednai], axis = 1)\n",
        "sub.columns =['policy_id', 'is_claim']\n",
        "sub.to_csv(\"submission_file.csv\", index = False)\n"
      ]
    },
    {
      "cell_type": "code",
      "execution_count": null,
      "id": "88c9ebb5",
      "metadata": {
        "id": "88c9ebb5"
      },
      "outputs": [],
      "source": []
    },
    {
      "cell_type": "code",
      "execution_count": null,
      "id": "5c71b5af",
      "metadata": {
        "id": "5c71b5af",
        "outputId": "659d039a-467d-4167-8dd0-c2a26c8ecbc1"
      },
      "outputs": [
        {
          "data": {
            "text/html": [
              "<div>\n",
              "<style scoped>\n",
              "    .dataframe tbody tr th:only-of-type {\n",
              "        vertical-align: middle;\n",
              "    }\n",
              "\n",
              "    .dataframe tbody tr th {\n",
              "        vertical-align: top;\n",
              "    }\n",
              "\n",
              "    .dataframe thead th {\n",
              "        text-align: right;\n",
              "    }\n",
              "</style>\n",
              "<table border=\"1\" class=\"dataframe\">\n",
              "  <thead>\n",
              "    <tr style=\"text-align: right;\">\n",
              "      <th></th>\n",
              "      <th>0</th>\n",
              "    </tr>\n",
              "  </thead>\n",
              "  <tbody>\n",
              "    <tr>\n",
              "      <th>0</th>\n",
              "      <td>0</td>\n",
              "    </tr>\n",
              "    <tr>\n",
              "      <th>1</th>\n",
              "      <td>0</td>\n",
              "    </tr>\n",
              "    <tr>\n",
              "      <th>2</th>\n",
              "      <td>0</td>\n",
              "    </tr>\n",
              "    <tr>\n",
              "      <th>3</th>\n",
              "      <td>0</td>\n",
              "    </tr>\n",
              "    <tr>\n",
              "      <th>4</th>\n",
              "      <td>0</td>\n",
              "    </tr>\n",
              "    <tr>\n",
              "      <th>...</th>\n",
              "      <td>...</td>\n",
              "    </tr>\n",
              "    <tr>\n",
              "      <th>39058</th>\n",
              "      <td>0</td>\n",
              "    </tr>\n",
              "    <tr>\n",
              "      <th>39059</th>\n",
              "      <td>0</td>\n",
              "    </tr>\n",
              "    <tr>\n",
              "      <th>39060</th>\n",
              "      <td>0</td>\n",
              "    </tr>\n",
              "    <tr>\n",
              "      <th>39061</th>\n",
              "      <td>0</td>\n",
              "    </tr>\n",
              "    <tr>\n",
              "      <th>39062</th>\n",
              "      <td>0</td>\n",
              "    </tr>\n",
              "  </tbody>\n",
              "</table>\n",
              "<p>39063 rows × 1 columns</p>\n",
              "</div>"
            ],
            "text/plain": [
              "       0\n",
              "0      0\n",
              "1      0\n",
              "2      0\n",
              "3      0\n",
              "4      0\n",
              "...   ..\n",
              "39058  0\n",
              "39059  0\n",
              "39060  0\n",
              "39061  0\n",
              "39062  0\n",
              "\n",
              "[39063 rows x 1 columns]"
            ]
          },
          "execution_count": 94,
          "metadata": {},
          "output_type": "execute_result"
        }
      ],
      "source": [
        "predsvc=svcf.predict(df2)\n",
        "predsvc=pd.DataFrame(predsvc)\n",
        "predsvc"
      ]
    },
    {
      "cell_type": "code",
      "execution_count": null,
      "id": "95f43866",
      "metadata": {
        "id": "95f43866",
        "outputId": "0ce7f734-3efe-4014-c4b4-dfc8a16169f3"
      },
      "outputs": [
        {
          "data": {
            "text/plain": [
              "0    0\n",
              "dtype: int64"
            ]
          },
          "execution_count": 95,
          "metadata": {},
          "output_type": "execute_result"
        }
      ],
      "source": [
        "predsvc.sum()"
      ]
    },
    {
      "cell_type": "code",
      "execution_count": null,
      "id": "bd76dc1c",
      "metadata": {
        "id": "bd76dc1c"
      },
      "outputs": [],
      "source": []
    },
    {
      "cell_type": "code",
      "execution_count": null,
      "id": "5ae84b34",
      "metadata": {
        "id": "5ae84b34"
      },
      "outputs": [],
      "source": []
    },
    {
      "cell_type": "code",
      "execution_count": null,
      "id": "b816b3c6",
      "metadata": {
        "id": "b816b3c6"
      },
      "outputs": [],
      "source": []
    }
  ],
  "metadata": {
    "kernelspec": {
      "display_name": "Python 3 (ipykernel)",
      "language": "python",
      "name": "python3"
    },
    "language_info": {
      "codemirror_mode": {
        "name": "ipython",
        "version": 3
      },
      "file_extension": ".py",
      "mimetype": "text/x-python",
      "name": "python",
      "nbconvert_exporter": "python",
      "pygments_lexer": "ipython3",
      "version": "3.9.13"
    },
    "colab": {
      "provenance": [],
      "include_colab_link": true
    }
  },
  "nbformat": 4,
  "nbformat_minor": 5
}
